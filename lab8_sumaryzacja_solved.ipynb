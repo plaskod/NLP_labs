{
  "cells": [
    {
      "cell_type": "markdown",
      "metadata": {
        "id": "jmvZ_sM9avxY"
      },
      "source": [
        "# Laboratoria 9 - inne istotne zagadnienia NLP (sumaryzacja, drzewa zależnościowe do ekstrakcji relacji)\n",
        "\n",
        "Dzisiaj skupimy się na trzech aspektach przetwarzania języka:\n",
        "<ol>\n",
        "    <li>Automatycznej sumaryzacji poprzez identyfikację zdań kluczowych.</li>\n",
        "    <li>Ekstrakcji relacji z tekstu nieustrukturyzowanego.</li>\n",
        "</ol>\n",
        "\n",
        "Ponieważ będziemy intensywnie korzystać z bibliotek NLTK lub SpaCy - załadujmy model SpaCy poprzez uruchomienie kodu poniżej tak, aby nie trzeba było go ładować w kolejnych komórkach."
      ]
    },
    {
      "cell_type": "code",
      "source": [
        "!python3 -m spacy download en_core_web_md"
      ],
      "metadata": {
        "id": "zmY7b7TIcQ2l"
      },
      "execution_count": null,
      "outputs": []
    },
    {
      "cell_type": "code",
      "source": [
        "!python3 -m spacy download en_core_web_md"
      ],
      "metadata": {
        "colab": {
          "base_uri": "https://localhost:8080/"
        },
        "id": "v4ZqJPF8heki",
        "outputId": "b2f1f101-1626-4257-a2f5-859a470ece66"
      },
      "execution_count": 16,
      "outputs": [
        {
          "output_type": "stream",
          "name": "stdout",
          "text": [
            "Looking in indexes: https://pypi.org/simple, https://us-python.pkg.dev/colab-wheels/public/simple/\n",
            "Collecting en_core_web_md==2.2.5\n",
            "  Downloading https://github.com/explosion/spacy-models/releases/download/en_core_web_md-2.2.5/en_core_web_md-2.2.5.tar.gz (96.4 MB)\n",
            "\u001b[K     |████████████████████████████████| 96.4 MB 1.2 MB/s \n",
            "\u001b[?25hRequirement already satisfied: spacy>=2.2.2 in /usr/local/lib/python3.7/dist-packages (from en_core_web_md==2.2.5) (2.2.4)\n",
            "Requirement already satisfied: blis<0.5.0,>=0.4.0 in /usr/local/lib/python3.7/dist-packages (from spacy>=2.2.2->en_core_web_md==2.2.5) (0.4.1)\n",
            "Requirement already satisfied: tqdm<5.0.0,>=4.38.0 in /usr/local/lib/python3.7/dist-packages (from spacy>=2.2.2->en_core_web_md==2.2.5) (4.64.0)\n",
            "Requirement already satisfied: preshed<3.1.0,>=3.0.2 in /usr/local/lib/python3.7/dist-packages (from spacy>=2.2.2->en_core_web_md==2.2.5) (3.0.6)\n",
            "Requirement already satisfied: catalogue<1.1.0,>=0.0.7 in /usr/local/lib/python3.7/dist-packages (from spacy>=2.2.2->en_core_web_md==2.2.5) (1.0.0)\n",
            "Requirement already satisfied: cymem<2.1.0,>=2.0.2 in /usr/local/lib/python3.7/dist-packages (from spacy>=2.2.2->en_core_web_md==2.2.5) (2.0.6)\n",
            "Requirement already satisfied: plac<1.2.0,>=0.9.6 in /usr/local/lib/python3.7/dist-packages (from spacy>=2.2.2->en_core_web_md==2.2.5) (1.1.3)\n",
            "Requirement already satisfied: requests<3.0.0,>=2.13.0 in /usr/local/lib/python3.7/dist-packages (from spacy>=2.2.2->en_core_web_md==2.2.5) (2.23.0)\n",
            "Requirement already satisfied: wasabi<1.1.0,>=0.4.0 in /usr/local/lib/python3.7/dist-packages (from spacy>=2.2.2->en_core_web_md==2.2.5) (0.9.1)\n",
            "Requirement already satisfied: numpy>=1.15.0 in /usr/local/lib/python3.7/dist-packages (from spacy>=2.2.2->en_core_web_md==2.2.5) (1.21.6)\n",
            "Requirement already satisfied: setuptools in /usr/local/lib/python3.7/dist-packages (from spacy>=2.2.2->en_core_web_md==2.2.5) (57.4.0)\n",
            "Requirement already satisfied: murmurhash<1.1.0,>=0.28.0 in /usr/local/lib/python3.7/dist-packages (from spacy>=2.2.2->en_core_web_md==2.2.5) (1.0.7)\n",
            "Requirement already satisfied: thinc==7.4.0 in /usr/local/lib/python3.7/dist-packages (from spacy>=2.2.2->en_core_web_md==2.2.5) (7.4.0)\n",
            "Requirement already satisfied: srsly<1.1.0,>=1.0.2 in /usr/local/lib/python3.7/dist-packages (from spacy>=2.2.2->en_core_web_md==2.2.5) (1.0.5)\n",
            "Requirement already satisfied: importlib-metadata>=0.20 in /usr/local/lib/python3.7/dist-packages (from catalogue<1.1.0,>=0.0.7->spacy>=2.2.2->en_core_web_md==2.2.5) (4.11.4)\n",
            "Requirement already satisfied: zipp>=0.5 in /usr/local/lib/python3.7/dist-packages (from importlib-metadata>=0.20->catalogue<1.1.0,>=0.0.7->spacy>=2.2.2->en_core_web_md==2.2.5) (3.8.0)\n",
            "Requirement already satisfied: typing-extensions>=3.6.4 in /usr/local/lib/python3.7/dist-packages (from importlib-metadata>=0.20->catalogue<1.1.0,>=0.0.7->spacy>=2.2.2->en_core_web_md==2.2.5) (4.2.0)\n",
            "Requirement already satisfied: chardet<4,>=3.0.2 in /usr/local/lib/python3.7/dist-packages (from requests<3.0.0,>=2.13.0->spacy>=2.2.2->en_core_web_md==2.2.5) (3.0.4)\n",
            "Requirement already satisfied: urllib3!=1.25.0,!=1.25.1,<1.26,>=1.21.1 in /usr/local/lib/python3.7/dist-packages (from requests<3.0.0,>=2.13.0->spacy>=2.2.2->en_core_web_md==2.2.5) (1.24.3)\n",
            "Requirement already satisfied: idna<3,>=2.5 in /usr/local/lib/python3.7/dist-packages (from requests<3.0.0,>=2.13.0->spacy>=2.2.2->en_core_web_md==2.2.5) (2.10)\n",
            "Requirement already satisfied: certifi>=2017.4.17 in /usr/local/lib/python3.7/dist-packages (from requests<3.0.0,>=2.13.0->spacy>=2.2.2->en_core_web_md==2.2.5) (2022.5.18.1)\n",
            "\u001b[38;5;2m✔ Download and installation successful\u001b[0m\n",
            "You can now load the model via spacy.load('en_core_web_md')\n"
          ]
        }
      ]
    },
    {
      "cell_type": "code",
      "source": [
        "import spacy\n",
        "import en_core_web_md\n",
        "\n",
        "nlp = en_core_web_md.load()\n",
        "# nlp = spacy.load('en_core_web_md')"
      ],
      "metadata": {
        "id": "TU5I7i9zhk6t"
      },
      "execution_count": 29,
      "outputs": []
    },
    {
      "cell_type": "code",
      "source": [
        "from google.colab import drive\n",
        "drive.mount('/content/drive')"
      ],
      "metadata": {
        "colab": {
          "base_uri": "https://localhost:8080/"
        },
        "id": "HuaBzaYDcriT",
        "outputId": "73189146-f691-485d-95af-7e8d49c1b5a6"
      },
      "execution_count": 9,
      "outputs": [
        {
          "output_type": "stream",
          "name": "stdout",
          "text": [
            "Mounted at /content/drive\n"
          ]
        }
      ]
    },
    {
      "cell_type": "markdown",
      "metadata": {
        "id": "zEIzM9Z3avyn"
      },
      "source": [
        "## Automatyczna sumaryzacja\n",
        "\n",
        "Obecnie, ilość informacji znajdujących się w sieci jest tak przytłaczająca, że nie jesteśmy w stanie czytać tyle ile chcielibyśmy. Dlatego też zaczęły rozwijać się metody automatycznej sumaryzacji tekstu, które z długich dokumentów \"wyciągną\" najistotniejsze fragmenty.\n",
        "\n",
        "Istnieją przeróżne podejścia do tego problemu, kilka z nich wymieniono poniżej\n",
        "<ul>\n",
        "    <li>Wybierz pierwszy paragraf - artykuły często zawierają wszystkie najważniejsze informacje już we wprowadzeniu! (szczególnie te w czasopismach)</li>\n",
        "    <li>Wybierz najistotniejsze zdania, które zawierają najwięcej informacji i tylko je przedstaw użytkownikowi</li>\n",
        "    <li>Staraj się zrozumieć tekst, zamodeluj wiedzę z tekstu i wygeneruj własne zdania. </li>\n",
        "</ul>\n",
        "Na dzisiejszych laboratoriach skupimy się na drugiej z metod - Podzielimy dokument na zdania, a następnie stworzymy ranking istotności zdań, z którego wybierzemy kilka pierwszych (najlepiej ocenionych) elementów. Pierwsza jest zbyt prosta do implementacji na laboratoriach, trzecia - zbyt skomplikowana.\n",
        "\n",
        "Aby stworzyć ranking zdań, można przyjąć następującą strategię:\n",
        "<ol>\n",
        "    <li>Przeprowadź preprocessing tekstu: spraw, aby tekst nie używał wielkich liter.</li>\n",
        "    <li>Podziel tekst na zdania, a następnie każde z tych zdań na słowa.</li>\n",
        "    <li>Ze zbioru wszystkich zdań - stwórz słownik, który każdemu słowu z tekstu przypisze liczbę wystąpień tego słowa w całym tekście (nie tylko w pojedynczym zdaniu!) (słownik powinien być w zmiennej freq). Słowo powinno znaleźć się w słowniku jeśli nie należy do zbioru stopwords (najczęstsze słowa typu: and, or, a, an) i jeśli nie jest znakiem interpunkcyjnym.</li>\n",
        "    <li>Korzystając ze zbudowanego w poprzednim kroku słownika - nadaj każdemu zdaniu wartość oznaczającą jego informatywność. Informatywność zdania może być obliczona jako suma częstości odczytanych ze słownika z poprzedniego kroku (jeśli słowo występuje w słowniku, gdyż słownik nie zawiera stopwordsów!).</li>\n",
        "    <li>Mając stworzony ranking - wybierz top N elementów i przedstaw je jako podsumowanie.</li>\n",
        "</ol>\n",
        "\n",
        "Przesłanka do tego podejścia jest taka, że jeśli dane słowo (które nie należy do stopwords) występuje często - jest pewnie istotne. Jeśli w zdaniu występuje dużo istotnych słów - zdanie jest lepsze z punktu widzenia sumaryzacji. Nie normalizujemy wyników długością zdania, ponieważ można przypuszczać, że dłuższe zdania będą lepszym wyborem.\n",
        "\n",
        "**Zadanie1 (2.5 pkt)** Uzupełnij kod automatycznej sumaryzacji:\n",
        "<ol>\n",
        "    <li>Uzupełnij funkcję **compute_frequencies**, która dla stokenizowanych zdań (lista list) wygeneruje slownik, ktory zwróci mapowanie słowo -> liczność wystąpień tego słowa w zbiorze dokumentów. Tokeny, które są stopwordsami lub znakami interpunkcyjnymi nie powinny być dodawane do słownika.</li>\n",
        "    <li>Zamień tekst na tekst pisany małymi literami, podziel go na zdania, a każde z tych zdań na słowa (pierwsze 3 linijki funkcji summarize)</li>\n",
        "    <li>Uzupełnij funkcję **create_sentence_ranking**, która na wejściu otrzymuje listę stokenizowanych zdań i słownik wygenerowany przez **create_frequencies**, a na wyjściu wygeneruje słownik mapujący numer porządkowy zdania na wartość istotności tego zdania (suma częstości tokenów tego zdania pobrana z freq)</li>\n",
        "</ol>"
      ]
    },
    {
      "cell_type": "code",
      "source": [
        "import nltk\n",
        "nltk.download('stopwords')\n",
        "nltk.download('punkt')"
      ],
      "metadata": {
        "id": "qVUnRem2pjfz"
      },
      "execution_count": null,
      "outputs": []
    },
    {
      "cell_type": "code",
      "execution_count": 42,
      "metadata": {
        "colab": {
          "base_uri": "https://localhost:8080/"
        },
        "id": "X1LxDjZAavyr",
        "outputId": "400321f6-7a54-4007-c8eb-7a5df40af24f"
      },
      "outputs": [
        {
          "output_type": "stream",
          "name": "stdout",
          "text": [
            "* (78, \"determining who will pay kim's hotel bill is one of many logistical issues still being hammered out ahead of the summit, including the aircraft kim will use to fly to singapore and the venue where trump and kim will meet, the post reported.\")\n",
            "* (56, 'the international campaign to abolish nuclear weapons also offered to pay for kim\\'s lodging with the cash received as part of its nobel peace prize ($1.1 million) it won last year \"in order to support peace in the korean peninsula and a nuclear-weapon-free world.\"')\n"
          ]
        }
      ],
      "source": [
        "from nltk import word_tokenize, sent_tokenize  # jesli ktos chcialby wykorzystac NLTK\n",
        "from collections import defaultdict\n",
        "from nltk.corpus import stopwords\n",
        "from string import punctuation\n",
        "from collections import defaultdict, Counter\n",
        "\n",
        "stopwords = set(stopwords.words('english') + list(punctuation)) # stwórz listę tokenów, które powinny być ignorowane\n",
        "\n",
        "def compute_frequencies(word_sent):\n",
        "  return Counter([x for xs in word_sent for x in xs if x not in stopwords])\n",
        "\n",
        "def sentence_ranking(sentences, freqs):\n",
        "  return [sum([freqs[word] for word in sent]) for sent in sentences]\n",
        "\n",
        "def summarize(text, sentence_count):\n",
        "  sents_raw = sent_tokenize(text.lower())\n",
        "  sents = [word_tokenize(x) for x in sents_raw] # TODO: podziel zdania na słowa tworząc listę list (lista zdań, z których każdy element to lista tokenów w zdaniu)\n",
        "  freqs = compute_frequencies(sents) # tutaj otrzymamy słownik, jeśli chcesz - wyświetl go - czy rzeczywiście częste słowa są tymi istotnymi?\n",
        "  ranking = sentence_ranking(sents, freqs)\n",
        "  ranked = sorted(zip(ranking, sents_raw), key=lambda x: -x[0])\n",
        "  return ranked[:sentence_count]\n",
        "    \n",
        "text = '''\n",
        "Washington (CNN) As preparations are underway for a US-North Korea summit, US officials are trying to solve the logistical issue of who will pay for North Korean leader Kim Jong Un's housing, according to a new report.\n",
        "\n",
        "A week after abruptly scrapping the summit with Kim, President Donald Trump announced Friday that the historic talks were back on for June 12 in Singapore.\n",
        "With its economy weakened from tough sanctions, Pyongyang is requiring that another country pay for Kim and his delegation's hotel bill, The Washington Post reported Friday.\n",
        "According to the Post, Kim is demanding to stay at the luxury, five-star Fullerton hotel, where a presidential suite costs more than $6,000 a night.\n",
        "America should be more at ease than this\n",
        "America should be more at ease than this\n",
        "White House and State Department officials declined to comment to the Post on the advance team planning details.\n",
        "Citing two people familiar with the talks, the Post reported that the US is open to covering the costs, but is considering asking the host country, Singapore, to foot the bill.\n",
        "The International Campaign to Abolish Nuclear Weapons also offered to pay for Kim's lodging with the cash received as part of its Nobel Peace Prize ($1.1 million) it won last year \"in order to support peace in the Korean Peninsula and a nuclear-weapon-free world.\"\n",
        "\"Our movement is committed to the abolition of nuclear weapons and we recognize that this historic summit is a once in a generation opportunity to work for peace and nuclear disarmament,\" ICAN International Steering Group member Akira Kawasaki said in a statement.\n",
        "The Post is also reporting that the US is expected to request a waiver of sanctions from the United Nations and US Treasury Department for expenses associated with North Korea's travel.\n",
        "Trump is expected to stay at another five-star hotel, the Shangri-La, which has hosted high security events before, according to the Post.\n",
        "Determining who will pay Kim's hotel bill is one of many logistical issues still being hammered out ahead of the summit, including the aircraft Kim will use to fly to Singapore and the venue where Trump and Kim will meet, the Post reported.\n",
        "The relatively secluded Capella hotel on the island of Sentosa is being considered for the site of the summit, people familiar with the talks told the Post.\n",
        "'''\n",
        "\n",
        "for s in summarize(text, 2): # wybierz 2 najlepsze zdania\n",
        "    print('*', s)"
      ]
    },
    {
      "cell_type": "markdown",
      "metadata": {
        "id": "jJYprNXDavy7"
      },
      "source": [
        "## Ekstrakcja relacji\n",
        "\n",
        "Zrozumienie tekstu wymaga zarówno rozumienia poszczególnych słów jak i relacji pomiędzy tymi słowami. O ile o znaczeniu pojedynczych słów mówiliśmy już trochę (embeddingi i ocena podobieństwa z ich zastosowaniem, a także problem POS-taggingu, który odkrywa jaką część mowy reprezentuje dane słowo), o tyle o relacjach między słowami  mówiliśmy niewiele. \n",
        "\n",
        "Relacjami między wyrazami w zdaniu rządzi gramatyka, dzięki której możemy zrozumieć jak wymienione w zdaniach idee łączą się ze sobą. Dotychczasowe badania w dziedzinie przetwarzania języka naturalnego zaproponowały tzw. drzewa zależnościowe (dependency tree lub dependency parse tree), jako wizualizację zależności gramatycznych między wyrazami w postaci drzewa. Korzeniem tego drzewa jest najważniejszy w zdaniu czasownik. Połączenia między węzłami w drzewie zależnościowym są etykietowane nazwami relacji między słowami.\n",
        "\n",
        "Wizualizacje generowanych drzew zależnościowych dla zadanaych zdań wygenerować można pod adresem: https://explosion.ai/demos/displacy\n",
        "\n",
        "Etykiety znajdujące się na krawędziach drzewa opisane są pod adresem: https://nlp.stanford.edu/software/dependencies_manual.pdf w rozdziale 2.\n",
        "\n",
        "Wizualizcję drzewa zależnościowego (bez etykiet na połączeniach węzłów) możemy uzyskać użyciem SpaCy i NLTK. Uruchom poniższy kod, aby zaobserwować rezultat:"
      ]
    },
    {
      "cell_type": "code",
      "execution_count": 43,
      "metadata": {
        "colab": {
          "base_uri": "https://localhost:8080/"
        },
        "id": "Ok6TsbOXavzE",
        "outputId": "1b63f296-f684-47ef-b0aa-6fbfe2d69d6b"
      },
      "outputs": [
        {
          "output_type": "stream",
          "name": "stdout",
          "text": [
            "The quick brown fox jumps over the lazy dog.\n",
            "-----------------------------------\n",
            "        jumps                    \n",
            "  ________|______________         \n",
            " |        |             over     \n",
            " |        |              |        \n",
            " |       fox            dog      \n",
            " |    ____|_____      ___|____    \n",
            " .  The quick brown the      lazy\n",
            "\n",
            "\n",
            "\n",
            "\n",
            "\n",
            "Mary met Mike.\n",
            "-----------------------------------\n",
            "     met     \n",
            "  ____|____   \n",
            "Mary Mike  . \n",
            "\n",
            "\n",
            "\n",
            "\n",
            "\n"
          ]
        }
      ],
      "source": [
        "from nltk import Tree # przydatne do wyświetlania drzewa\n",
        "\n",
        "doc = nlp(\"The quick brown fox jumps over the lazy dog. Mary met Mike.\") # przykładowe zdania do przetworzenia\n",
        "\n",
        "def to_nltk_tree(node): # tworzymy drzewo\n",
        "    if node.n_lefts + node.n_rights > 0:\n",
        "        return Tree(node.text, [to_nltk_tree(child) for child in node.children])\n",
        "    else:\n",
        "        return node.text\n",
        "\n",
        "for sent in doc.sents:\n",
        "    print(sent)\n",
        "    print(\"-----------------------------------\")\n",
        "    to_nltk_tree(sent.root).pretty_print() # stwórz drzewo i pięknie je przedstaw\n",
        "    print(\"\\n\\n\\n\")"
      ]
    },
    {
      "cell_type": "markdown",
      "metadata": {
        "id": "OvC1VgJSavzI"
      },
      "source": [
        "Do czego może się przydać drzewo zależnościowe? \n",
        "Możemy wykorzystać takie drzewo np. do upraszczania zdań, odkrywania relacji między elementami zdania, czy np. do odkrywania do jakiego fragmentu tekstu odnosi się fraza nacechowana emocjonalnie (\"Bardzo lubię te babcine, wiejskie pierogi, ale dobrym kebabem w sumie też nie pogardzę\" => lubię--pierogi, nie-pogardzę--kebabem)\n",
        "\n",
        "Wykorzystajmy drzewo zależnościowe, aby stworzyć uproszczoną reprezentację zdania, zawierającą relację (czasownik) i argumenty tej relacji w formie relacja(argument1, argument2,...)\n",
        "\n",
        "**Zadanie 2: Prosta ekstrakcja relacji z wykorzystaniem drzewa zależnościowego**\n",
        "\n",
        "**Zadanie 2a (0.5 pkt)**: Wykorzystując atrybuty stworzonych przez spacy tokenów po uruchomieniu funkcji nlp() (https://spacy.io/api/token#attributes) - stwórz reprezentację CONLL, w której znajdą się następujące atrybuty (kolumny):\n",
        "<ol>\n",
        "<li>identyfikator słowa w dokumencie</li>\n",
        "<li>tekst słowa</li>\n",
        "<li>etykieta z drzewa zależnościowego na połączeniu z \"rodzicem\"</li>\n",
        "<li>tekst rodzica z drzewa zależnościowego</li>\n",
        "<li>listę dzieci z drzewa zależnościowego</li>\n",
        "</ol>\n",
        "\n",
        "Oczekiwany rezultat:\n",
        "\n",
        "<pre>\n",
        "0 The det fox []\n",
        "1 quick amod fox []\n",
        "2 brown amod fox []\n",
        "3 fox nsubj jumps [The, quick, brown]\n",
        "4 jumps ROOT jumps [fox, over, .]\n",
        "5 over prep jumps [dog]\n",
        "6 the det dog []\n",
        "7 lazy amod dog []\n",
        "8 dog pobj over [the, lazy]\n",
        "9 . punct jumps []\n",
        "\n",
        "\n",
        "10 Mary nsubj met []\n",
        "11 met ROOT met [Mary, Mike, .]\n",
        "12 Mike dobj met []\n",
        "13 . punct met []\n",
        "</pre>"
      ]
    },
    {
      "cell_type": "code",
      "execution_count": 47,
      "metadata": {
        "colab": {
          "base_uri": "https://localhost:8080/"
        },
        "id": "mHd4zjGkavzY",
        "outputId": "17d82562-40b3-4e33-f751-8ca78d51c403"
      },
      "outputs": [
        {
          "output_type": "stream",
          "name": "stdout",
          "text": [
            "0 The det fox []\n",
            "1 quick amod fox []\n",
            "2 brown amod fox []\n",
            "3 fox nsubj jumps [The, quick, brown]\n",
            "4 jumps ROOT jumps [fox, over, .]\n",
            "5 over prep jumps [dog]\n",
            "6 the det dog []\n",
            "7 lazy amod dog []\n",
            "8 dog pobj over [the, lazy]\n",
            "9 . punct jumps []\n",
            "\n",
            "\n",
            "\n",
            "10 Mary nsubj met []\n",
            "11 met ROOT met [Mary, Mike, .]\n",
            "12 Mike dobj met []\n",
            "13 . punct met []\n",
            "\n",
            "\n",
            "\n"
          ]
        }
      ],
      "source": [
        "from nltk import Tree # przydatne do wyświetlania drzewa\n",
        "\n",
        "doc = nlp(\"The quick brown fox jumps over the lazy dog. Mary met Mike.\") # przykładowe zdania do przetworzenia\n",
        "\n",
        "i = 0\n",
        "for sent in doc.sents:\n",
        "  for word in sent:\n",
        "    print(i, word, word.dep_, word.head, list(word.children));\n",
        "    i += 1\n",
        "  print(\"\\n\\n\")\n",
        "#TODO - wyświetl CONLL"
      ]
    },
    {
      "cell_type": "markdown",
      "metadata": {
        "id": "U1k3UnfFavzo"
      },
      "source": [
        "Widzimy, że najistotniejszym czasownikiem jest słowo \"jumps\" (korzeń drzewa zależnościowego (ROOT))\n",
        "Widzimy też, że słowa grupują się odpowiednio. Dzieci słowa 'fox' to ['The', 'quick', 'brown'] - a więc określenia definiujące jaki ten lis jest! (Podobnie dla słowa dog)\n",
        "\n",
        "\n",
        "**Zadanie 2b (2 pkt)** Ekstrakcja relacji.\n",
        "\n",
        "Wiedząc jak należy pobierać informacje o drzewie zależnościowym z obiektów typu Token w SpaCy, napisz funkcję parsującą, która dla każdego zdania (zdania przetworzonego przez SpaCy) wyekstrahuje najważniejszą relację (czasownik będący ROOTem), a także argumenty tej relacji (podmiot i dopełnienie) bazując na wygenerowanym drzewie zależnościowym.\n",
        "\n",
        "<ol>\n",
        "<li>Relacja powinna zostać zapisana w zmiennej predicate</li>\n",
        "<li>Podmiot, zdefiniujmy jako token ze zdania, który połączony jest z ROOTem relacją 'nsubj', zapisany powinien być w zmiennej subj.</li>\n",
        "<li>orzeczenie zaś określone może być np. jako:element połączony z ROOTem relacją 'dobj', bądź, jeśli ROOT nie ma połączenia 'dobj', a połączony jest z elementem relacją 'prep' (przyimek w relacji do czasownika), to orzeczeniem jest token, który połączony jest z tym przyimkiem relacją 'pobj'. Jeśli występuje sytuacja druga, tzn. przyimek jest połączony bezpośrednio z ROOTem - a dopiero ten przyimek z określeniem, przyimek powinien zostać doklejony do napisu zapisanego w zmiennej predicate (Dla uproszczenia załóżmy, że przyimek występuje zawsze po czasowniku). Dopełnienie zapisz w zmiennej 'obj'.</li>\n",
        "</ol>\n",
        "Aby zrozumieć działanie dopełnienia - spójrz na oczekiwany rezultat tego zadania i na drzewo zależnościowe wygenerowane w pierwszym fragmencie kodu tej sekcji.\n",
        "\n",
        "Oczekiwany rezultat:\n",
        "\n",
        "<pre>\n",
        "jumps over(fox, dog)\n",
        "met(Mary, Mike)\n",
        "</pre>\n",
        "\n",
        "O ile drugi przykład met(Mary, Mike) jest oczywisty, to pierwszy powinien zidentyfikować słowo 'jumps' jako relację, zauważyć, że nie istnieje bezpośrednie dopełnienie (brak 'dobj' dla roota), za to mamy przyimek over, który to z kolei jest połączony z oczekiwanym dopełnieniem ('dog'). Zatem przyimek doklejamy do nazwy relacji, zamieniając dotychczasowe jumps na jumps over, a dopełnieniem staje się element połączony z przyimkiem relacją 'pobj': dog. "
      ]
    },
    {
      "cell_type": "code",
      "execution_count": 50,
      "metadata": {
        "colab": {
          "base_uri": "https://localhost:8080/"
        },
        "id": "rtUfZSBCavzu",
        "outputId": "49c177c5-548b-4026-fcfe-11faea3c2e77"
      },
      "outputs": [
        {
          "output_type": "stream",
          "name": "stdout",
          "text": [
            "jumps over(fox, dog)\n",
            "met(Mary, Mike)\n"
          ]
        }
      ],
      "source": [
        "from nltk import Tree # przydatne do wyświetlania drzewa\n",
        "from spacy.symbols import VERB, prep, nsubj, pobj, dobj\n",
        "\n",
        "doc = nlp(\"The quick brown fox jumps over the lazy dog. Mary met Mike.\") # przykładowe zdania do przetworzenia\n",
        "\n",
        "def parse(sent):\n",
        "  pred = [sent.root.text]\n",
        "  subj, obj = None, None\n",
        "  \n",
        "  for word in sent:\n",
        "    if word.head.text in pred:\n",
        "      if word.dep == prep:\n",
        "        pred.append(word.text)\n",
        "      if word.dep == nsubj:\n",
        "        subj = word.text\n",
        "      if word.dep in [pobj, dobj]:\n",
        "        obj = word.text\n",
        "\n",
        "  pred = ' '.join(pred)\n",
        "  print(f'{pred}({subj}, {obj})')\n",
        "    \n",
        "for sent in doc.sents:\n",
        "  parse(sent)"
      ]
    }
  ],
  "metadata": {
    "kernelspec": {
      "display_name": "Python 3",
      "language": "python",
      "name": "python3"
    },
    "language_info": {
      "codemirror_mode": {
        "name": "ipython",
        "version": 3
      },
      "file_extension": ".py",
      "mimetype": "text/x-python",
      "name": "python",
      "nbconvert_exporter": "python",
      "pygments_lexer": "ipython3",
      "version": "3.6.9"
    },
    "colab": {
      "name": "139758_lab8_sumaryzacja_solved.ipynb",
      "provenance": [],
      "collapsed_sections": []
    }
  },
  "nbformat": 4,
  "nbformat_minor": 0
}